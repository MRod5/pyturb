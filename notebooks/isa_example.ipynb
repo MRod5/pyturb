{
 "cells": [
  {
   "cell_type": "markdown",
   "metadata": {},
   "source": [
    "# ISA: Example of usage\n",
    "\n",
    "International Standard Atmosphere refers to the US Atmosphere of 1975 coefficients (COESA 1975).\n",
    "\n",
    "From troposphere to mesosphere (0 m to 84851 m) temperature, pressure and density are depicted below."
   ]
  },
  {
   "cell_type": "code",
   "execution_count": 1,
   "metadata": {},
   "outputs": [],
   "source": [
    "import numpy as np\n",
    "from matplotlib import pyplot as plt\n",
    "from pyturb.gas_models import isa"
   ]
  },
  {
   "cell_type": "code",
   "execution_count": 2,
   "metadata": {},
   "outputs": [
    {
     "name": "stdout",
     "output_type": "stream",
     "text": [
      "1 -   troposphere - zbase=    0.000m, alpha=-6.50e-03K/m, Tbase=288.15K, pbase=101325.000Pa, dbase=1.225e+00kg/m^3\n",
      "2 -    tropopause - zbase=11000.000m, alpha= 0.00e+00K/m, Tbase=216.65K, pbase= 22632.000Pa, dbase=3.639e-01kg/m^3\n",
      "3 - stratosphere1 - zbase=20000.000m, alpha= 1.00e-03K/m, Tbase=216.65K, pbase=  5474.900Pa, dbase=8.803e-02kg/m^3\n",
      "4 - stratosphere2 - zbase=32000.000m, alpha= 2.80e-03K/m, Tbase=228.65K, pbase=   868.020Pa, dbase=1.323e-02kg/m^3\n",
      "5 -   stratopause - zbase=47000.000m, alpha= 0.00e+00K/m, Tbase=270.65K, pbase=   110.910Pa, dbase=1.428e-03kg/m^3\n",
      "6 -   mesosphere1 - zbase=51000.000m, alpha=-2.80e-03K/m, Tbase=270.65K, pbase=    66.939Pa, dbase=8.616e-04kg/m^3\n",
      "7 -   mesosphere2 - zbase=71000.000m, alpha=-2.00e-03K/m, Tbase=214.65K, pbase=     3.956Pa, dbase=6.421e-05kg/m^3\n",
      "8 -   mesosphere3 - zbase=84852.000m, alpha= 0.00e+00K/m, Tbase=186.95K, pbase=     0.373Pa, dbase=6.958e-06kg/m^3\n"
     ]
    }
   ],
   "source": [
    "height = [0, 11000, 20000, 32000, 47000, 51000, 71000, 84852]\n",
    "for i_layer, h in enumerate(height):\n",
    "    lapse_rate, Tbase, pbase, dbase, heightbase, layer_name = isa.get_atmosdata(h)\n",
    "    print('{5} -{4:>14s} - zbase={3:9.3f}m, alpha={0:9.2e}K/m, Tbase={1:6.2f}K, pbase={2:10.3f}Pa, dbase={6:6.3e}kg/m^3'.format(lapse_rate, Tbase, pbase, heightbase, layer_name, i_layer+1, dbase))"
   ]
  },
  {
   "cell_type": "code",
   "execution_count": null,
   "metadata": {},
   "outputs": [],
   "source": [
    "h = np.linspace(0,84851, 100)\n",
    "T = isa.temperature_isa(h)\n",
    "p = isa.pressure_isa(h)\n",
    "d = isa.density_state_eq(h)"
   ]
  },
  {
   "cell_type": "code",
   "execution_count": null,
   "metadata": {},
   "outputs": [],
   "source": [
    "plt.figure()\n",
    "plot_temp = plt.plot(T,h, '-x')\n",
    "plt.xlabel(\"Temperature [K]\")\n",
    "plt.ylabel(\"geopotential height [m]\")"
   ]
  },
  {
   "cell_type": "code",
   "execution_count": null,
   "metadata": {},
   "outputs": [],
   "source": [
    "fig, eje1 = plt.subplots()\n",
    "eje2 = eje1.twinx()\n",
    "plot1, = eje1.plot(h, p, \"b-+\", label=\"pressure\")\n",
    "plot2, = eje2.plot(h, d, \"r-x\", label=\"density\")\n",
    "\n",
    "eje1.set_xlabel(\"geopotential height [m]\")\n",
    "eje1.set_ylabel(\"pressure [Pa]\")\n",
    "eje2.set_ylabel(\"density kg/m3\")\n",
    "eje1.yaxis.label.set_color(plot1.get_color())\n",
    "eje2.yaxis.label.set_color(plot2.get_color())\n",
    "\n",
    "tkw = dict(size=4, width=1.5)\n",
    "eje1.tick_params(axis='y', colors=plot1.get_color(), **tkw)\n",
    "eje2.tick_params(axis='y', colors=plot2.get_color(), **tkw)\n",
    "eje1.tick_params(axis='x', **tkw)\n",
    "\n",
    "lines = [plot1, plot2]\n",
    "eje1.legend(lines, [l.get_label() for l in lines])"
   ]
  },
  {
   "cell_type": "code",
   "execution_count": null,
   "metadata": {},
   "outputs": [],
   "source": [
    "isa.height_from_temperature_isa(270)"
   ]
  },
  {
   "cell_type": "code",
   "execution_count": null,
   "metadata": {},
   "outputs": [],
   "source": [
    "isa.height_from_pressure_isa([50000, 95000, 2500])"
   ]
  },
  {
   "cell_type": "code",
   "execution_count": null,
   "metadata": {},
   "outputs": [],
   "source": [
    "isa.height_from_temperature_isa([200, 220, 250, 275])"
   ]
  },
  {
   "cell_type": "code",
   "execution_count": null,
   "metadata": {},
   "outputs": [],
   "source": [
    "plt.figure()\n",
    "plot_temp = plt.plot(T,h, '-x')\n",
    "plt.xlabel(\"Temperature [K]\")\n",
    "plt.ylabel(\"geopotential height [m]\")"
   ]
  },
  {
   "cell_type": "code",
   "execution_count": null,
   "metadata": {},
   "outputs": [],
   "source": []
  }
 ],
 "metadata": {
  "kernelspec": {
   "display_name": "Python 3",
   "language": "python",
   "name": "python3"
  },
  "language_info": {
   "codemirror_mode": {
    "name": "ipython",
    "version": 3
   },
   "file_extension": ".py",
   "mimetype": "text/x-python",
   "name": "python",
   "nbconvert_exporter": "python",
   "pygments_lexer": "ipython3",
   "version": "3.7.7"
  }
 },
 "nbformat": 4,
 "nbformat_minor": 4
}
