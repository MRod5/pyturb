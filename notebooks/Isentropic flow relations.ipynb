{
 "cells": [
  {
   "cell_type": "markdown",
   "metadata": {},
   "source": [
    "# Isentropic Flow\n",
    "\n",
    "This Notebook illustrates the use of the *Isentropic Flow* class from **pyTurb**. An *Isentropic Flow* is considered to be *reversible* and to have no disipation, nor friction, maintaining a constant level of entropy. If the fluid undergoes such a transformation, then the energy balance of the fluid allows the transport of kinetic energy to thermal/reversible work.\n",
    "\n",
    "- pyturb\n",
    "    - gas_models\n",
    "        - thermo_prop\n",
    "        - PerfectIdealGas\n",
    "        - SemiperfectIdealGas\n",
    "        - GasMixture\n",
    "        - IsentropicFlow\n",
    "        \n",
    "```python\n",
    "from pyturb.gas_models import GasMixture\n",
    "from pyturb.gas_models import PerfectIdealGas\n",
    "from pyturb.gas_models import SemiperfectIdealGas\n",
    "from pyturb.gas_models import IsentropicFlow\n",
    "```\n",
    "\n",
    "The `IsentropicFlow` can be initialized with pyTurb's `PerfectIdealGas` or `SemiperfectIdealGas` classes. Defining the model as perfect or smeiperfect indicates how the $c_p$, $c_v$ and $\\gamma$ are treated:\n",
    "\n",
    "- *PerfectIdealGas*: Ideal Equation of State ($pv=R_gT$) and constant $c_p$, $c_v$, $\\gamma_g$\n",
    "- *SemiperfectIdealGas*: Ideal Equation of State and $c_p\\left(T\\right)$, $c_v\\left(T\\right)$, $\\gamma_g\\left(T\\right)$ as a function of temperature\n",
    "\n",
    "From here, the content of the *IsentropicFlow* class includes:\n",
    "- Sound speed\n",
    "- Mach Number\n",
    "- Stagnation relations:\n",
    "    - Stagnation temperature\n",
    "    - Stagnation pressure\n",
    "    - Stagnation density\n",
    "    - Impact pressure\n",
    "    - Dynamic pressure\n",
    "- Static relations:\n",
    "    - Static temperature\n",
    "    - Static pressure\n",
    "    - Static density\n",
    "\n",
    "---\n"
   ]
  },
  {
   "cell_type": "markdown",
   "metadata": {},
   "source": [
    "### Isentropic flow examples\n",
    "We will start with importing *air* as both pyTurb's *perfect* and *semi-perfect* gases and creating an Isentropic Gas object from both models:"
   ]
  },
  {
   "cell_type": "code",
   "execution_count": 1,
   "metadata": {},
   "outputs": [],
   "source": [
    "from pyturb.gas_models import IsentropicFlow\n",
    "from pyturb.gas_models import PerfectIdealGas\n",
    "from pyturb.gas_models import SemiperfectIdealGas"
   ]
  },
  {
   "cell_type": "code",
   "execution_count": 2,
   "metadata": {},
   "outputs": [],
   "source": [
    "perfect_air = PerfectIdealGas('Air')\n",
    "semiperfect_air = SemiperfectIdealGas('Air')\n",
    "\n",
    "perf_air_isentflow = IsentropicFlow(perfect_air)\n",
    "semiperf_air_isentflow = IsentropicFlow(semiperfect_air)"
   ]
  },
  {
   "cell_type": "markdown",
   "metadata": {},
   "source": [
    "We will also get the local temperature, pressure and density of the air at $5000m$ from the Standard Atmosphere (ISA) from *pyTurb*:"
   ]
  },
  {
   "cell_type": "code",
   "execution_count": 3,
   "metadata": {},
   "outputs": [
    {
     "name": "stdout",
     "output_type": "stream",
     "text": [
      "At 5000m above SL:  T0=255.65 K;  p0= 54020 Pa;  rho0=0.7361 kg/m^3\n"
     ]
    }
   ],
   "source": [
    "from pyturb.gas_models import isa\n",
    "\n",
    "h0 = 5000 #m\n",
    "T0 = isa.temperature_isa(h0)\n",
    "p0 = isa.pressure_isa(h0)\n",
    "\n",
    "rho0 = p0/perf_air_isentflow.fluid.Rg/T0\n",
    "\n",
    "print(\"At {0:4.0f}m above SL:  T0={1:6.2f} K;  p0={2:6.0f} Pa;  rho0={3:6.4f} kg/m^3\".format(h0, T0, p0, rho0))"
   ]
  },
  {
   "cell_type": "markdown",
   "metadata": {},
   "source": [
    "Note that the `PerfectIdealGas`or the `SemiperfectIdealGas` ojects are copied to `IsentropicFlow`. If, for example, the gas constant is needed, it can be accessed directly from the Isentropic Gas object:\n",
    "\n",
    "```python\n",
    "from pyturb.gas_models import PerfectIdealGas\n",
    "from pyturb.gas_models import IsentropicFlow\n",
    "\n",
    "air = PerfectIdealGas(\"air\")\n",
    "isent_flow = IsentropicFlow(air)\n",
    "isent_flow.fluid.Rg\n",
    "```\n",
    "\n",
    "> `fluid` is a copy of the pyTurb gas model used to create the  `IsentropicFlow` object."
   ]
  },
  {
   "cell_type": "markdown",
   "metadata": {},
   "source": [
    "---\n",
    "\n",
    "### Sound Speed and Mach Number\n",
    "\n",
    "Sound speed indicates the ratio at wich a pressure perturbation can travel within the fluid. It is related to the specific energy that is carried by a pressure wave:\n",
    "\n",
    "$$\\frac{\\partial p}{\\partial \\rho}\\bigg \\vert_s = \\gamma \\frac{p}{\\rho} = \\gamma R_g T = a^2 $$\n",
    "\n",
    "Thus the sound speed is:\n",
    "\n",
    "$$c=\\sqrt{\\frac{\\partial p}{\\partial \\rho}\\bigg \\vert_s } = \\sqrt{\\gamma R_g T}$$\n",
    "\n",
    "In *pyTurb* the sound speed can be calculated with *sound_speed(static_temperature)* where `static_temperature` is the local flow temperature at which the sound speed is desired. Note that in case of a *semi-perfect* gas, pyturb calculate the corresponding value of $\\gamma\\left(T\\right)$.\n",
    "\n",
    "For example, for the local temperature at $5000m$ above sea level:"
   ]
  },
  {
   "cell_type": "code",
   "execution_count": 4,
   "metadata": {},
   "outputs": [
    {
     "name": "stdout",
     "output_type": "stream",
     "text": [
      "Perfect Gas:       a0=320.53m/s\n",
      "Semi-perfect Gas:  a0=320.62m/s\n"
     ]
    }
   ],
   "source": [
    "a0_pf = perf_air_isentflow.sound_speed(T0)\n",
    "a0_spf = semiperf_air_isentflow.sound_speed(T0)\n",
    "\n",
    "print('Perfect Gas:       a0={0:6.2f}m/s'.format(a0_pf))\n",
    "print('Semi-perfect Gas:  a0={0:6.2f}m/s'.format(a0_spf))"
   ]
  },
  {
   "cell_type": "markdown",
   "metadata": {},
   "source": [
    "The Mach number is calculated as the coefficient between the local speed and the sound speed of the flow:\n",
    "\n",
    "$$M=\\frac{v}{a}$$\n",
    "\n",
    "If we consider a local velocity of $200\\frac{m}{s}$:"
   ]
  },
  {
   "cell_type": "code",
   "execution_count": 5,
   "metadata": {},
   "outputs": [
    {
     "name": "stdout",
     "output_type": "stream",
     "text": [
      "Perfect Gas:       M0=0.6240m/s\n",
      "Semi-perfect Gas:  M0=0.6238m/s\n"
     ]
    }
   ],
   "source": [
    "v0 = 200 #m/s\n",
    "M0_pf = perf_air_isentflow.mach_number(v0,T0)\n",
    "M0_spf = semiperf_air_isentflow.mach_number(v0,T0)\n",
    "print('Perfect Gas:       M0={0:6.4f}m/s'.format(M0_pf))\n",
    "print('Semi-perfect Gas:  M0={0:6.4f}m/s'.format(M0_spf))"
   ]
  },
  {
   "cell_type": "markdown",
   "metadata": {},
   "source": [
    "### Stagnation temperature:\n",
    "\n",
    "The stagnation temperature can be calculated as the static temperature plus the kinetic energy of the fluid (`stag_temp_from_vel`):\n",
    "\n",
    "$$ T_t = T + \\frac{1}{2}\\frac{v^2}{c_p}$$\n",
    "\n",
    "This relation can be rearrenged with the Mach Number (`stagnation_static_relation`):\n",
    "\n",
    "$$ \\frac{T_t}{T} = 1 + \\frac{\\gamma-1}{2}M^2$$\n",
    "\n"
   ]
  },
  {
   "cell_type": "code",
   "execution_count": 6,
   "metadata": {},
   "outputs": [
    {
     "name": "stdout",
     "output_type": "stream",
     "text": [
      "Perfect Gas:       T0t/T0=1.077865;  T0t_vel=275.56 K;  T0t_Mach=275.56 K;  T0=255.65 K\n",
      "Semi-perfect Gas:  T0t/T0=1.077981;  T0t_vel=275.59 K;  T0t_Mach=275.59 K;  T0=255.65 KK\n"
     ]
    }
   ],
   "source": [
    "# Perfect Gas:\n",
    "T0t_vel_pf = perf_air_isentflow.stag_temp_from_mach(M0_pf, T0)\n",
    "T0t_Mach_pf = perf_air_isentflow.stag_temp_from_vel(v0,T0)\n",
    "T0t_T0_relation_pf = perf_air_isentflow.stagnation_static_rel(M0_pf)\n",
    "\n",
    "# Semiperfect Gas\n",
    "T0t_vel_spf = semiperf_air_isentflow.stag_temp_from_mach(M0_spf, T0)\n",
    "T0t_Mach_spf = semiperf_air_isentflow.stag_temp_from_vel(v0,T0)\n",
    "T0t_T0_relation_spf = semiperf_air_isentflow.stagnation_static_rel(M0_spf, T0)\n",
    "\n",
    "print(\"Perfect Gas:       T0t/T0={0:8.6f};  T0t_vel={1:6.2f} K;  T0t_Mach={2:6.2f} K;  T0={3:6.2f} K\".format(T0t_T0_relation_pf,\n",
    "                                                                                                     T0t_vel_pf,\n",
    "                                                                                                     T0t_Mach_pf,\n",
    "                                                                                                     T0))\n",
    "\n",
    "print(\"Semi-perfect Gas:  T0t/T0={0:8.6f};  T0t_vel={1:6.2f} K;  T0t_Mach={2:6.2f} K;  T0={3:6.2f} KK\".format(T0t_T0_relation_spf,\n",
    "                                                                                                     T0t_vel_spf,\n",
    "                                                                                                     T0t_Mach_spf,\n",
    "                                                                                                     T0))"
   ]
  },
  {
   "cell_type": "markdown",
   "metadata": {},
   "source": [
    "The stagnation to static relation can be used to obtain the stagnation pressure, provided the static pressure (`stag_pressure_from_mach`):\n",
    "\n",
    "$$ \\frac{p_t}{p} = \\left(\\frac{T_t}{T}\\right)^{\\frac{\\gamma}{\\gamma-1}}$$\n",
    "\n",
    "And similarly, the stagnation density (`stag_density_from_mach`):\n",
    "\n",
    "$$ \\frac{\\rho_t}{\\rho} = \\left(\\frac{T_t}{T}\\right)^{\\frac{1}{\\gamma-1}}$$"
   ]
  },
  {
   "cell_type": "code",
   "execution_count": 7,
   "metadata": {},
   "outputs": [
    {
     "name": "stdout",
     "output_type": "stream",
     "text": [
      "Perfect Gas:       p0t= 70232 Pa;  p0= 54020 Pa;  rho0t=0.887903 kg/m^3;  rho0=0.7361 kg/m^3\n",
      "Semi-perfect Gas:  p0t= 70241 Pa;  p0= 54020 Pa;  rho0t=0.887890 kg/m^3;  rho0=0.7361 kg/m^3\n"
     ]
    }
   ],
   "source": [
    "# Perfect Gas:\n",
    "p0t_pf = perf_air_isentflow.stag_pressure_from_mach(M0_pf, p0)\n",
    "rho0t_pf = perf_air_isentflow.stag_density_from_mach(M0_pf, rho0)\n",
    "\n",
    "# Semiperfect Gas\n",
    "p0t_spf = semiperf_air_isentflow.stag_pressure_from_mach(M0_pf, p0, T0)\n",
    "rho0t_spf = semiperf_air_isentflow.stag_density_from_mach(M0_pf, rho0, T0)\n",
    "\n",
    "print(\"Perfect Gas:       p0t={0:6.0f} Pa;  p0={1:6.0f} Pa;  rho0t={2:8.6f} kg/m^3;  rho0={3:6.4f} kg/m^3\".format(p0t_pf,\n",
    "                                                                                                                  p0,\n",
    "                                                                                                                  rho0t_pf,\n",
    "                                                                                                                  rho0))\n",
    "\n",
    "print(\"Semi-perfect Gas:  p0t={0:6.0f} Pa;  p0={1:6.0f} Pa;  rho0t={2:8.6f} kg/m^3;  rho0={3:6.4f} kg/m^3\".format(p0t_spf,\n",
    "                                                                                                                  p0,\n",
    "                                                                                                                  rho0t_spf,\n",
    "                                                                                                                  rho0))"
   ]
  },
  {
   "cell_type": "markdown",
   "metadata": {},
   "source": [
    "### Impact pressure, dynamic pressure and speed:\n",
    "\n",
    "For obtaining the speed of the free stream, two options can be used:\n",
    "- Obtaining the velocity from the stagnation and static temperatures (*vel_from_stag_temp*)\n",
    "- Obatining the velocity from the Mach number (*vel_from_mach*)\n",
    "\n",
    "In the first case, the stagnation and static temperatures must be kwown to gather the velocity:\n",
    "\n",
    "$$ v = \\sqrt{2c_p\\left(T_t-T\\right)}$$\n",
    "\n",
    "While the velocity from the Mach numbr is obtained with:\n",
    "\n",
    "$$v = aM=\\sqrt{\\gamma R_g T}M$$"
   ]
  },
  {
   "cell_type": "code",
   "execution_count": 8,
   "metadata": {},
   "outputs": [
    {
     "name": "stdout",
     "output_type": "stream",
     "text": [
      "Perfect Gas:       v_TtT=200.0m/s;   v_M=200.0m/s\n",
      "Semi-perfect Gas:  v_TtT=200.0m/s;   v_M=200.0m/s\n"
     ]
    }
   ],
   "source": [
    "# From stagnation temperature\n",
    "v_TtT_pf = perf_air_isentflow.vel_from_stag_temp(T0t_Mach_pf, T0)\n",
    "v_TtT_spf = semiperf_air_isentflow.vel_from_stag_temp(T0t_Mach_spf, T0)\n",
    "\n",
    "# From Mach number:\n",
    "v_M_pf = perf_air_isentflow.vel_from_mach(M0_pf, T0)\n",
    "v_M_spf = semiperf_air_isentflow.vel_from_mach(M0_spf, T0)\n",
    "\n",
    "print('Perfect Gas:       v_TtT={0:5.1f}m/s;   v_M={1:5.1f}m/s'.format(v_TtT_pf, v_M_spf))\n",
    "print('Semi-perfect Gas:  v_TtT={0:5.1f}m/s;   v_M={1:5.1f}m/s'.format(v_TtT_spf, v_M_spf))"
   ]
  },
  {
   "cell_type": "markdown",
   "metadata": {},
   "source": [
    "If the flow is subsonic with $M<0.3$, the fluid may be considered *incompressible* (isochoric). In this case the total pressure can be calculated as:\n",
    "\n",
    "$$p_t = p + q_i$$\n",
    "\n",
    "Where $q_i$ is calculated with `dynamic_pressure_from_statpress`:\n",
    "$$q_i = \\frac{1}{2}\\rho v^2$$\n",
    "\n",
    "Or with `dynamic_pressure`:\n",
    "$$q_i= \\frac{\\gamma}{2} p M^2$$\n",
    "\n",
    "On the other hand, if the flow is considered *compressible* ($M>0.3$), the impact pressure can be calculated as the difference between the stagnation and static pressure (`impact_pressure_from_mach`):\n",
    "\n",
    "$$q_i = p_t - p = p \\left( \\left(\\frac{T_t}{T}\\right)^{\\frac{\\gamma}{\\gamma-1}}-1\\right)$$\n"
   ]
  },
  {
   "cell_type": "markdown",
   "metadata": {},
   "source": [
    "For example:"
   ]
  },
  {
   "cell_type": "code",
   "execution_count": 9,
   "metadata": {},
   "outputs": [
    {
     "name": "stdout",
     "output_type": "stream",
     "text": [
      "Dynamic pressure static pressure and Mach: M0=0.2;  qi=1512.5317124605472Pa\n",
      "Dynamic pressure from density and velocity: M0=0.2;  qi=1512.5317124605472Pa\n",
      "Impact pressure: M0=0.6239758744916172;  qi=16211.817392755554Pa\n",
      "(Impact pressure)/(static pressure)=0.3001Pa;  (stagnation pressure)/(static pressure)=1.3001Pa;\n"
     ]
    }
   ],
   "source": [
    "mach = 0.2 # -\n",
    "vel = perf_air_isentflow.vel_from_mach(mach, T0)\n",
    "T0t = perf_air_isentflow.stag_temp_from_mach(mach, T0)\n",
    "\n",
    "qi_ls_p = perf_air_isentflow.dynamic_pressure_from_statpress(mach, p0)\n",
    "qi_ls_rho = perf_air_isentflow.dynamic_pressure(vel, rho0)\n",
    "qi_hs = perf_air_isentflow.impact_pressure_from_mach(M0_pf, p0, T0)\n",
    "\n",
    "print('Dynamic pressure static pressure and Mach: M0={};  qi={}Pa'.format(mach, qi_ls_p))\n",
    "print('Dynamic pressure from density and velocity: M0={};  qi={}Pa'.format(mach, qi_ls_rho))\n",
    "print('Impact pressure: M0={};  qi={}Pa'.format(M0_pf, qi_hs))\n",
    "print('(Impact pressure)/(static pressure)={0:6.4f}Pa;  (stagnation pressure)/(static pressure)={1:6.4f}Pa;'.format(qi_hs/p0, p0t_pf/p0))"
   ]
  }
 ],
 "metadata": {
  "kernelspec": {
   "display_name": "Python 3",
   "language": "python",
   "name": "python3"
  },
  "language_info": {
   "codemirror_mode": {
    "name": "ipython",
    "version": 3
   },
   "file_extension": ".py",
   "mimetype": "text/x-python",
   "name": "python",
   "nbconvert_exporter": "python",
   "pygments_lexer": "ipython3",
   "version": "3.7.1"
  }
 },
 "nbformat": 4,
 "nbformat_minor": 2
}
