{
 "cells": [
  {
   "cell_type": "markdown",
   "metadata": {},
   "source": [
    "# Isentropic Flow\n",
    "\n",
    "This Notebook illustrates the use of the *Isentropic Flow* class from **pyTurb**. An *Isentropic Flow* is considered to be *reversible* and to have no disipation, nor friction, maintaining a constant level of entropy. If the fluid undergoes such a transformation, then the energy balance of the fluid allows the transport of kinetic energy to thermal/reversible work.\n",
    "\n",
    "- pyturb\n",
    "    - gas_models\n",
    "        - thermo_prop\n",
    "        - PerfectIdealGas\n",
    "        - SemiperfectIdealGas\n",
    "        - GasMixture\n",
    "        - IsentropicFlow\n",
    "        \n",
    "```python\n",
    "from pyturb.gas_models import GasMixture\n",
    "from pyturb.gas_models import PerfectIdealGas\n",
    "from pyturb.gas_models import SemiperfectIdealGas\n",
    "from pyturb.gas_models import GasMixture\n",
    "```\n"
   ]
  },
  {
   "cell_type": "code",
   "execution_count": 3,
   "metadata": {},
   "outputs": [],
   "source": [
    "from pyturb.gas_models import IsentropicFlow\n",
    "from pyturb.gas_models import PerfectIdealGas"
   ]
  },
  {
   "cell_type": "code",
   "execution_count": 7,
   "metadata": {},
   "outputs": [
    {
     "name": "stdout",
     "output_type": "stream",
     "text": [
      "M= 0.29386738560632114 a= 340.28954861280454\n"
     ]
    }
   ],
   "source": [
    "air = PerfectIdealGas('Air')\n",
    "isent = IsentropicFlow(air)\n",
    "T = 288.15 #K\n",
    "p = 101325 #Pa\n",
    "rho = p/air.Rg/T\n",
    "v = 100 # m/s\n",
    "\n",
    "a = isent.sound_speed(T)\n",
    "M = isent.mach_number(v, T)\n",
    "print('M=', M, 'a=', a)"
   ]
  },
  {
   "cell_type": "code",
   "execution_count": 6,
   "metadata": {},
   "outputs": [
    {
     "name": "stdout",
     "output_type": "stream",
     "text": [
      "Tt_T= 1.0172705758891332\n",
      "Tt= 293.1265164424537\n",
      "Tt= 293.1265164424537\n",
      "pt= 107583.43674314614\n",
      "qi= 6258.436743146143\n",
      "qi= 6125.05531983517\n",
      "v= 100.0\n",
      "v= 100.0\n",
      "rho= 1.225011063967034 rhot= 1.2785930207767764\n",
      "T= 288.15\n",
      "p= 101325.0\n"
     ]
    }
   ],
   "source": [
    "\n",
    "print('Tt_T=', isent.stagnation_static_rel(M))\n",
    "print('Tt=', isent.stag_temp_from_mach(M, T))\n",
    "print('Tt=', isent.stag_temp_from_vel(v, T))\n",
    "print('pt=', isent.stag_pressure_from_mach(M, p))\n",
    "print('qi=', isent.impact_pressure_from_mach(M, p))\n",
    "print('qi=', isent.dynamic_pressure(v, rho))\n",
    "print('v=', isent.vel_from_stag_temp(isent.stag_temp_from_mach(M, T), T))\n",
    "print('v=', isent.vel_from_mach(M, T))\n",
    "print('rho=', rho, 'rhot=', isent.stag_density_from_mach(M, rho))\n",
    "print('T=', isent.stat_temp_from_mach(M, isent.stag_temp_from_mach(M, T)))\n",
    "print('p=', isent.stat_pressure_from_mach(M, isent.stag_pressure_from_mach(M, p)))\n"
   ]
  },
  {
   "cell_type": "code",
   "execution_count": null,
   "metadata": {},
   "outputs": [],
   "source": []
  }
 ],
 "metadata": {
  "kernelspec": {
   "display_name": "Python 3",
   "language": "python",
   "name": "python3"
  },
  "language_info": {
   "codemirror_mode": {
    "name": "ipython",
    "version": 3
   },
   "file_extension": ".py",
   "mimetype": "text/x-python",
   "name": "python",
   "nbconvert_exporter": "python",
   "pygments_lexer": "ipython3",
   "version": "3.7.1"
  }
 },
 "nbformat": 4,
 "nbformat_minor": 2
}
