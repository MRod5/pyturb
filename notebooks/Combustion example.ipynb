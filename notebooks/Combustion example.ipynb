{
 "cells": [
  {
   "cell_type": "markdown",
   "id": "5e4858f8-11e1-4ff1-ba21-49065c6eda88",
   "metadata": {},
   "source": [
    "# Combustion example\n"
   ]
  },
  {
   "cell_type": "code",
   "execution_count": 1,
   "id": "dc1c4ebb-551c-4539-9a55-6c3cbe5c6017",
   "metadata": {},
   "outputs": [],
   "source": [
    "from pyturb.gas_models import PerfectIdealGas\n",
    "from pyturb.combustion import Combustion"
   ]
  },
  {
   "cell_type": "code",
   "execution_count": 4,
   "id": "f12802e5-f478-48cd-a499-09374cccc3df",
   "metadata": {},
   "outputs": [],
   "source": [
    "air = PerfectIdealGas('Air')\n",
    "C8H18 = PerfectIdealGas('C8H18,isooctane')\n",
    "comb = Combustion(C8H18, air)"
   ]
  },
  {
   "cell_type": "code",
   "execution_count": 5,
   "id": "60e9b257-6cb4-4fa1-9753-ae776f4358a2",
   "metadata": {},
   "outputs": [
    {
     "data": {
      "text/plain": [
       "['hydrocarbon',\n",
       " 'CH4',\n",
       " 'C2H6',\n",
       " 'C3H8',\n",
       " 'C4H10',\n",
       " 'C5H12',\n",
       " 'C6H14',\n",
       " 'C7H16',\n",
       " 'C8H18',\n",
       " 'C9H19',\n",
       " 'C10H8',\n",
       " 'CH4O',\n",
       " 'CH3OCH3',\n",
       " 'H2']"
      ]
     },
     "execution_count": 5,
     "metadata": {},
     "output_type": "execute_result"
    }
   ],
   "source": [
    "comb.fuel_list"
   ]
  },
  {
   "cell_type": "code",
   "execution_count": 6,
   "id": "2471352c-c0b9-4653-b68d-5bb237236f15",
   "metadata": {},
   "outputs": [
    {
     "data": {
      "text/plain": [
       "['HHV',\n",
       " 'LHV',\n",
       " '__class__',\n",
       " '__delattr__',\n",
       " '__dict__',\n",
       " '__dir__',\n",
       " '__doc__',\n",
       " '__eq__',\n",
       " '__format__',\n",
       " '__ge__',\n",
       " '__getattribute__',\n",
       " '__gt__',\n",
       " '__hash__',\n",
       " '__init__',\n",
       " '__init_subclass__',\n",
       " '__le__',\n",
       " '__lt__',\n",
       " '__module__',\n",
       " '__ne__',\n",
       " '__new__',\n",
       " '__reduce__',\n",
       " '__reduce_ex__',\n",
       " '__repr__',\n",
       " '__setattr__',\n",
       " '__sizeof__',\n",
       " '__str__',\n",
       " '__subclasshook__',\n",
       " '__weakref__',\n",
       " '_alpha',\n",
       " '_beta',\n",
       " '_classify_reactants',\n",
       " '_combustion_stoichiometry_simple_reaction',\n",
       " '_delta',\n",
       " '_gamma',\n",
       " 'alpha',\n",
       " 'beta',\n",
       " 'combustion_stoichiometry',\n",
       " 'delta',\n",
       " 'fuel',\n",
       " 'fuel_list',\n",
       " 'gamma',\n",
       " 'hcomb_g',\n",
       " 'hcomb_l',\n",
       " 'heat_of_combustion',\n",
       " 'oxidizer',\n",
       " 'oxidizer_fuel_ratio',\n",
       " 'oxidizer_list',\n",
       " 'products',\n",
       " 'products_dictionary',\n",
       " 'reactants',\n",
       " 'reactants_dictionary',\n",
       " 'stoich_far',\n",
       " 'stoichiometric_reaction']"
      ]
     },
     "execution_count": 6,
     "metadata": {},
     "output_type": "execute_result"
    }
   ],
   "source": [
    "dir(comb)"
   ]
  },
  {
   "cell_type": "code",
   "execution_count": 8,
   "id": "a2feb1ce-8bd8-4ceb-b930-5dc5c510046f",
   "metadata": {},
   "outputs": [],
   "source": [
    "comb.combustion_stoichiometry()"
   ]
  },
  {
   "cell_type": "code",
   "execution_count": 9,
   "id": "b8284258-4276-4d36-b16c-94f1d417648e",
   "metadata": {},
   "outputs": [
    {
     "data": {
      "text/plain": [
       "'C8H18 + 12.500(O2 + 79/21 N2) --> 8CO2 + 9H2O + 12.500(79/21 N2)'"
      ]
     },
     "execution_count": 9,
     "metadata": {},
     "output_type": "execute_result"
    }
   ],
   "source": [
    "comb.stoichiometric_reaction"
   ]
  },
  {
   "cell_type": "code",
   "execution_count": 11,
   "id": "3b4337c7-8478-497e-bb20-8d50330a93bb",
   "metadata": {},
   "outputs": [
    {
     "data": {
      "text/plain": [
       "0.06625331663760786"
      ]
     },
     "execution_count": 11,
     "metadata": {},
     "output_type": "execute_result"
    }
   ],
   "source": [
    "comb.stoich_far"
   ]
  }
 ],
 "metadata": {
  "kernelspec": {
   "display_name": "Python 3 (ipykernel)",
   "language": "python",
   "name": "python3"
  },
  "language_info": {
   "codemirror_mode": {
    "name": "ipython",
    "version": 3
   },
   "file_extension": ".py",
   "mimetype": "text/x-python",
   "name": "python",
   "nbconvert_exporter": "python",
   "pygments_lexer": "ipython3",
   "version": "3.9.13"
  }
 },
 "nbformat": 4,
 "nbformat_minor": 5
}
