{
 "cells": [
  {
   "cell_type": "code",
   "execution_count": null,
   "metadata": {
    "collapsed": true
   },
   "outputs": [],
   "source": [
    "from air_model import IdealGas"
   ]
  },
  {
   "cell_type": "code",
   "execution_count": null,
   "metadata": {},
   "outputs": [],
   "source": [
    "aire_ideal = IdealGas()"
   ]
  },
  {
   "cell_type": "code",
   "execution_count": null,
   "metadata": {},
   "outputs": [],
   "source": [
    "cp_aire_id = aire_ideal.cp_air()\n",
    "cv_aire_id = aire_ideal.cv_air()\n",
    "gamma_aire_id = aire_ideal.gamma_air()\n",
    "aire_ideal?\n",
    "print(cp_aire_id, cv_aire_id, gamma_aire_id)"
   ]
  },
  {
   "cell_type": "code",
   "execution_count": null,
   "metadata": {
    "collapsed": true
   },
   "outputs": [],
   "source": [
    "from air_model import RealGas"
   ]
  },
  {
   "cell_type": "code",
   "execution_count": null,
   "metadata": {
    "collapsed": true
   },
   "outputs": [],
   "source": [
    "aire_real = RealGas(cp_option='naca', gamma_option='standard')"
   ]
  },
  {
   "cell_type": "code",
   "execution_count": null,
   "metadata": {},
   "outputs": [],
   "source": [
    "temp0 = 273.15 #[K]\n",
    "cp_aire = aire_real.cp_air(temp0)\n",
    "cv_aire = aire_real.cv_air(temp0)\n",
    "gamma_aire = aire_real.gamma_air(temp0)\n",
    "print(cp_aire, cv_aire, gamma_aire)\n",
    "aire_real?"
   ]
  },
  {
   "cell_type": "code",
   "execution_count": null,
   "metadata": {},
   "outputs": [],
   "source": [
    "import numpy as np\n",
    "aire_real = RealGas(cp_option='naca', gamma_option='standard')\n",
    "temp = np.linspace(temp0, temp0+1800, 11)\n",
    "print('it  |  temp  |   cp   |   cv   | gamma')\n",
    "for T in temp:\n",
    "    print('------------------------------------------')\n",
    "    cp_aire = aire_real.cp_air(T)\n",
    "    cv_aire = aire_real.cv_air(T)\n",
    "    gamma_aire = aire_real.gamma_air(T)\n",
    "    print('{0:2.0f}  | {1:6.1f} | {2:6.1f} | {3:6.1f} | {4:5.3f}'.format(ii, T, cp_aire, cv_aire, gamma_aire))"
   ]
  },
  {
   "cell_type": "code",
   "execution_count": null,
   "metadata": {},
   "outputs": [],
   "source": [
    "aire_real = RealGas(cp_option='nasa', gamma_option='naca')\n",
    "temp = np.linspace(temp0, temp0+1800, 11)\n",
    "print('it  |  temp  |   cp   |   cv   | gamma')\n",
    "for ii, T in enumerate(temp):\n",
    "    print('------------------------------------------')\n",
    "    cp_aire = aire_real.cp_air(T)\n",
    "    cv_aire = aire_real.cv_air(T)\n",
    "    gamma_aire = aire_real.gamma_air(T)\n",
    "    print('{0:2.0f}  | {1:6.1f} | {2:6.1f} | {3:6.1f} | {4:5.3f}'.format(ii, T, cp_aire, cv_aire, gamma_aire))"
   ]
  },
  {
   "cell_type": "code",
   "execution_count": null,
   "metadata": {
    "collapsed": true
   },
   "outputs": [],
   "source": [
    "aire_real.gamma_air?"
   ]
  },
  {
   "cell_type": "code",
   "execution_count": null,
   "metadata": {
    "collapsed": true
   },
   "outputs": [],
   "source": []
  }
 ],
 "metadata": {
  "kernelspec": {
   "display_name": "Python 3",
   "language": "python",
   "name": "python3"
  },
  "language_info": {
   "codemirror_mode": {
    "name": "ipython",
    "version": 3
   },
   "file_extension": ".py",
   "mimetype": "text/x-python",
   "name": "python",
   "nbconvert_exporter": "python",
   "pygments_lexer": "ipython3",
   "version": "3.5.3"
  }
 },
 "nbformat": 4,
 "nbformat_minor": 2
}
