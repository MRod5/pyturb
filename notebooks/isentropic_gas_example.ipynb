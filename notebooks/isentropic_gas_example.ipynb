{
 "cells": [
  {
   "cell_type": "code",
   "execution_count": 1,
   "metadata": {
    "collapsed": true
   },
   "outputs": [],
   "source": [
    "import isa\n",
    "from isentropic_gas import IsentropicGas"
   ]
  },
  {
   "cell_type": "code",
   "execution_count": 2,
   "metadata": {
    "collapsed": true
   },
   "outputs": [],
   "source": [
    "gas_isoentropico_real = IsentropicGas(selected_cp_air_model='naca', selected_gamma_air_model='naca')\n",
    "gas_isoentropico_ideal = IsentropicGas(selected_cp_air_model='ideal', selected_gamma_air_model='ideal')"
   ]
  },
  {
   "cell_type": "code",
   "execution_count": 3,
   "metadata": {
    "collapsed": true
   },
   "outputs": [],
   "source": [
    "gas_isoentropico_ideal?"
   ]
  },
  {
   "cell_type": "code",
   "execution_count": 4,
   "metadata": {},
   "outputs": [
    {
     "name": "stdout",
     "output_type": "stream",
     "text": [
      "0.500121411084\n"
     ]
    }
   ],
   "source": [
    "h0 = 3500 # m\n",
    "temp0 = isa.temp_isa(h0) #K\n",
    "pres0 = isa.pres_isa(h0)\n",
    "v0 = 163.65 #m/s\n",
    "gas_isoentropico_ideal.mach_number?\n",
    "mach0 = gas_isoentropico_ideal.mach_number(v0, temp0)\n",
    "print(mach0)"
   ]
  },
  {
   "cell_type": "code",
   "execution_count": 5,
   "metadata": {},
   "outputs": [
    {
     "name": "stdout",
     "output_type": "stream",
     "text": [
      "278.737312002\n"
     ]
    }
   ],
   "source": [
    "gas_isoentropico_ideal.stagnation_temperature_from_mach?\n",
    "T0t = gas_isoentropico_ideal.stagnation_temperature_from_mach(mach0, temp0)\n",
    "print(T0t)"
   ]
  },
  {
   "cell_type": "code",
   "execution_count": 6,
   "metadata": {},
   "outputs": [
    {
     "name": "stdout",
     "output_type": "stream",
     "text": [
      "78103.5225407\n"
     ]
    }
   ],
   "source": [
    "gas_isoentropico_real.stagnation_pressure_from_mach?\n",
    "P0t = gas_isoentropico_real.stagnation_pressure_from_mach(mach0, pres0, temp0)\n",
    "print(P0t)"
   ]
  },
  {
   "cell_type": "code",
   "execution_count": 7,
   "metadata": {},
   "outputs": [
    {
     "name": "stdout",
     "output_type": "stream",
     "text": [
      "163.65 0.500121411084\n"
     ]
    }
   ],
   "source": [
    "gas_isoentropico_ideal.velocity_from_stagnation_temperature?\n",
    "mach0_ = gas_isoentropico_ideal.velocity_from_stagnation_temperature(T0t, temp0)\n",
    "v0_ = gas_isoentropico_ideal.mach_from_stagnation_temperature(T0t, temp0)\n",
    "print(mach0_, v0_)"
   ]
  },
  {
   "cell_type": "code",
   "execution_count": null,
   "metadata": {
    "collapsed": true
   },
   "outputs": [],
   "source": [
    "gas_isoentropico_ideal.velocity_from_stagnation_temperature?\n",
    "mach0_ = gas_isoentropico_real.velocity_from_stagnation_temperature(T0t, temp0)\n",
    "v0_ = gas_isoentropico_real.mach_from_stagnation_temperature(T0t, temp0)\n",
    "print(mach0_, v0_)"
   ]
  },
  {
   "cell_type": "code",
   "execution_count": null,
   "metadata": {
    "collapsed": true
   },
   "outputs": [],
   "source": []
  }
 ],
 "metadata": {
  "kernelspec": {
   "display_name": "Python 3",
   "language": "python",
   "name": "python3"
  },
  "language_info": {
   "codemirror_mode": {
    "name": "ipython",
    "version": 3
   },
   "file_extension": ".py",
   "mimetype": "text/x-python",
   "name": "python",
   "nbconvert_exporter": "python",
   "pygments_lexer": "ipython3",
   "version": "3.5.3"
  }
 },
 "nbformat": 4,
 "nbformat_minor": 2
}
