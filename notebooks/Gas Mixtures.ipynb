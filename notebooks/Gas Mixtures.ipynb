{
 "cells": [
  {
   "cell_type": "markdown",
   "metadata": {},
   "source": [
    "# Gas Mixtures: Perfect and Semiperfect Models\n",
    "\n",
    "This Notebook is an example about how to declare and use *Gas Mixtures* with **pyTurb**. Gas Mixtures in **pyTurb** are treated as a combination of different gases of **pyTurb**:\n",
    "- *PerfectIdealGas*: Ideal Equation of State ($pv=R_gT$) and constant $c_p$, $c_v$, $\\gamma_g$\n",
    "- *SemiperfectIdealGas*: Ideal Equation of State and $c_p\\left(T\\right)$, $c_v\\left(T\\right)$, $\\gamma_g\\left(T\\right)$ as a function of temperature\n",
    "\n",
    "The *Gas Mixture* class and the rest of the gas models can be found at the following folder:\n",
    "\n",
    "- pyturb\n",
    "    - gas_models\n",
    "        - thermo_prop\n",
    "        - PerfectIdealGas\n",
    "        - SemiperfectIdealGas\n",
    "        - GasMixture\n",
    "        \n",
    "```python\n",
    "from pyturb.gas_models import GasMixture\n",
    "from pyturb.gas_models import PerfectIdealGas\n",
    "from pyturb.gas_models import SemiperfectIdealGas\n",
    "from pyturb.gas_models import GasMixture\n",
    "```\n",
    "\n",
    "When the `GasMixture` object is imported the gas model must be selected: The mixture can be treated as a *Perfect Gas* or *Semiperfect Gas*. Note that both options are *ideal* gases (the *ideal equation of state* $pv=R_gT$ is available). Thus:\n",
    "\n",
    "\n",
    "- If the gas is Perfect: $c_v, c_p, \\gamma_g \\equiv constant$\n",
    "- If the gas is Semiperfect: $c_v(T), c_p(T), \\gamma_g(T) \\equiv f(T)$\n",
    "\n",
    "To choose one of the gas models simply specify it when creating the Gas Mixture object:\n",
    "\n",
    "```python\n",
    "gas_mix_perfect = GasMixture(gas_model='Perfect')\n",
    "gas_mix_semiperfect = GasMixture(gas_model='Semiperfect')\n",
    "```\n",
    "\n",
    "Note that 'gas_model' options are not case sensitive e.g. `Semi-perfect`, `semiperfect` or `Semiperfect` yield the same result.\n",
    "\n",
    "A *gas mixture* can be defined adding the gas species that conform the mixture. For that purpose, the method `add_gas` can be used:\n",
    "\n",
    "```python\n",
    "gas_mix = GasMixture()\n",
    "gas_mix.add_gas(species, moles=quantity)\n",
    "gas_mix.add_gas(species, mass=quantity)\n",
    "```\n",
    "\n",
    "Note that the gas species (pure substance) specified in `species` must be available as a `PerfectIdealGas` or `SemiperfectIdealGas`. The gas availability can be checked using the `is_available` function at `ThermoProperties`.\n",
    "\n",
    "When using `add_gas`, the quantity of the gas to be added must be specified. This can be done by introducing the moles or the mass of the gas. For example, if a mixture of $1.5mol$ of $Ar$ and $3mol$ of $He$ is intended:\n",
    "\n",
    "```python\n",
    "gas_mix = GasMixture(gas_model='Perfect')\n",
    "gas_mix.add_gas('Ar', moles=1.5)\n",
    "gas_mix.add_gas('He', moles=3.5)\n",
    "```\n",
    "\n",
    "Whilst a mix of $500g$ of $O_2$ and $500g$ of $H_2$ would be:\n",
    "```python\n",
    "gas_mix = GasMixture(gas_model='Perfect')\n",
    "gas_mix.add_gas('O2', mass=0.5)\n",
    "gas_mix.add_gas('H2', mass=0.5)\n",
    "```\n",
    "\n",
    "Finally, the gas mixture provides the same outputs of a `PerfectIdealGas` or `SemiperfectIdealGas`, plus the molar and mass fractions:\n",
    "- **Gas properties:** Ru, Rg, Mg, cp, cp_molar, cv, cv_molar, gamma\n",
    "- **Gas enthalpies, moles and mass:** h0, h0_molar, mg, Ng\n",
    "- **Mixture condition:** Molar fraction, mass fraction\n",
    "\n",
    "---"
   ]
  },
  {
   "cell_type": "markdown",
   "metadata": {
    "jp-MarkdownHeadingCollapsed": true,
    "tags": []
   },
   "source": [
    "### Gas Mixture example:\n",
    "\n",
    "Let's create a mixture Perfect Gases, with $500g$ of $O_2$ and $500g$ of $H_2$"
   ]
  },
  {
   "cell_type": "code",
   "execution_count": 1,
   "metadata": {},
   "outputs": [],
   "source": [
    "from pyturb.gas_models import GasMixture\n",
    "gas_mix = GasMixture(gas_model='Perfect')\n",
    "gas_mix.add_gas('O2', mass=0.5)\n",
    "gas_mix.add_gas('H2', mass=0.5)"
   ]
  },
  {
   "cell_type": "markdown",
   "metadata": {},
   "source": [
    "To inspect the gas mixture contidions, we can use *Pandas Dataframe* contained in `gas_mixture`:"
   ]
  },
  {
   "cell_type": "code",
   "execution_count": 2,
   "metadata": {},
   "outputs": [
    {
     "data": {
      "text/html": [
       "<div>\n",
       "<style scoped>\n",
       "    .dataframe tbody tr th:only-of-type {\n",
       "        vertical-align: middle;\n",
       "    }\n",
       "\n",
       "    .dataframe tbody tr th {\n",
       "        vertical-align: top;\n",
       "    }\n",
       "\n",
       "    .dataframe thead th {\n",
       "        text-align: right;\n",
       "    }\n",
       "</style>\n",
       "<table border=\"1\" class=\"dataframe\">\n",
       "  <thead>\n",
       "    <tr style=\"text-align: right;\">\n",
       "      <th></th>\n",
       "      <th>gas_species</th>\n",
       "      <th>gas_properties</th>\n",
       "      <th>Ng</th>\n",
       "      <th>Mg</th>\n",
       "      <th>mg</th>\n",
       "      <th>Rg</th>\n",
       "      <th>molar_frac</th>\n",
       "      <th>mass_frac</th>\n",
       "    </tr>\n",
       "  </thead>\n",
       "  <tbody>\n",
       "    <tr>\n",
       "      <th>0</th>\n",
       "      <td>O2</td>\n",
       "      <td>&lt;pyturb.gas_models.perfect_ideal_gas.PerfectId...</td>\n",
       "      <td>1.924286</td>\n",
       "      <td>31.99880</td>\n",
       "      <td>0.5</td>\n",
       "      <td>259.836701</td>\n",
       "      <td>0.940735</td>\n",
       "      <td>0.5</td>\n",
       "    </tr>\n",
       "    <tr>\n",
       "      <th>1</th>\n",
       "      <td>H2</td>\n",
       "      <td>&lt;pyturb.gas_models.perfect_ideal_gas.PerfectId...</td>\n",
       "      <td>0.121227</td>\n",
       "      <td>2.01588</td>\n",
       "      <td>0.5</td>\n",
       "      <td>4124.482915</td>\n",
       "      <td>0.059265</td>\n",
       "      <td>0.5</td>\n",
       "    </tr>\n",
       "  </tbody>\n",
       "</table>\n",
       "</div>"
      ],
      "text/plain": [
       "  gas_species                                     gas_properties        Ng  \\\n",
       "0          O2  <pyturb.gas_models.perfect_ideal_gas.PerfectId...  1.924286   \n",
       "1          H2  <pyturb.gas_models.perfect_ideal_gas.PerfectId...  0.121227   \n",
       "\n",
       "         Mg   mg           Rg  molar_frac  mass_frac  \n",
       "0  31.99880  0.5   259.836701    0.940735        0.5  \n",
       "1   2.01588  0.5  4124.482915    0.059265        0.5  "
      ]
     },
     "execution_count": 2,
     "metadata": {},
     "output_type": "execute_result"
    }
   ],
   "source": [
    "gas_mix.mixture_gases"
   ]
  },
  {
   "cell_type": "markdown",
   "metadata": {},
   "source": [
    "Note that the `gas_mixture` dataframe contains the information of the mixture: amount of moles, amount of mass, molar and mass fractions and the objects containing the pure subtance information.\n",
    "\n",
    "---"
   ]
  },
  {
   "cell_type": "markdown",
   "metadata": {},
   "source": [
    "It is also possible to create a gas mixtures defining moles:"
   ]
  },
  {
   "cell_type": "code",
   "execution_count": 3,
   "metadata": {},
   "outputs": [
    {
     "data": {
      "text/html": [
       "<div>\n",
       "<style scoped>\n",
       "    .dataframe tbody tr th:only-of-type {\n",
       "        vertical-align: middle;\n",
       "    }\n",
       "\n",
       "    .dataframe tbody tr th {\n",
       "        vertical-align: top;\n",
       "    }\n",
       "\n",
       "    .dataframe thead th {\n",
       "        text-align: right;\n",
       "    }\n",
       "</style>\n",
       "<table border=\"1\" class=\"dataframe\">\n",
       "  <thead>\n",
       "    <tr style=\"text-align: right;\">\n",
       "      <th></th>\n",
       "      <th>gas_species</th>\n",
       "      <th>gas_properties</th>\n",
       "      <th>Ng</th>\n",
       "      <th>Mg</th>\n",
       "      <th>mg</th>\n",
       "      <th>Rg</th>\n",
       "      <th>molar_frac</th>\n",
       "      <th>mass_frac</th>\n",
       "    </tr>\n",
       "  </thead>\n",
       "  <tbody>\n",
       "    <tr>\n",
       "      <th>0</th>\n",
       "      <td>O2</td>\n",
       "      <td>&lt;pyturb.gas_models.perfect_ideal_gas.PerfectId...</td>\n",
       "      <td>0.5</td>\n",
       "      <td>31.99880</td>\n",
       "      <td>0.129918</td>\n",
       "      <td>259.836701</td>\n",
       "      <td>0.5</td>\n",
       "      <td>0.059265</td>\n",
       "    </tr>\n",
       "    <tr>\n",
       "      <th>1</th>\n",
       "      <td>H2</td>\n",
       "      <td>&lt;pyturb.gas_models.perfect_ideal_gas.PerfectId...</td>\n",
       "      <td>0.5</td>\n",
       "      <td>2.01588</td>\n",
       "      <td>2.062241</td>\n",
       "      <td>4124.482915</td>\n",
       "      <td>0.5</td>\n",
       "      <td>0.940735</td>\n",
       "    </tr>\n",
       "  </tbody>\n",
       "</table>\n",
       "</div>"
      ],
      "text/plain": [
       "  gas_species                                     gas_properties   Ng  \\\n",
       "0          O2  <pyturb.gas_models.perfect_ideal_gas.PerfectId...  0.5   \n",
       "1          H2  <pyturb.gas_models.perfect_ideal_gas.PerfectId...  0.5   \n",
       "\n",
       "         Mg        mg           Rg  molar_frac  mass_frac  \n",
       "0  31.99880  0.129918   259.836701         0.5   0.059265  \n",
       "1   2.01588  2.062241  4124.482915         0.5   0.940735  "
      ]
     },
     "execution_count": 3,
     "metadata": {},
     "output_type": "execute_result"
    }
   ],
   "source": [
    "gas_mix2 = GasMixture(gas_model='Perfect')\n",
    "gas_mix2.add_gas('O2', moles=0.5)\n",
    "gas_mix2.add_gas('H2', moles=0.5)\n",
    "gas_mix2.mixture_gases"
   ]
  },
  {
   "cell_type": "markdown",
   "metadata": {},
   "source": [
    "One can also define the mixture defining some pure substances as moles and some as mass:"
   ]
  },
  {
   "cell_type": "code",
   "execution_count": 4,
   "metadata": {},
   "outputs": [
    {
     "data": {
      "text/html": [
       "<div>\n",
       "<style scoped>\n",
       "    .dataframe tbody tr th:only-of-type {\n",
       "        vertical-align: middle;\n",
       "    }\n",
       "\n",
       "    .dataframe tbody tr th {\n",
       "        vertical-align: top;\n",
       "    }\n",
       "\n",
       "    .dataframe thead th {\n",
       "        text-align: right;\n",
       "    }\n",
       "</style>\n",
       "<table border=\"1\" class=\"dataframe\">\n",
       "  <thead>\n",
       "    <tr style=\"text-align: right;\">\n",
       "      <th></th>\n",
       "      <th>gas_species</th>\n",
       "      <th>gas_properties</th>\n",
       "      <th>Ng</th>\n",
       "      <th>Mg</th>\n",
       "      <th>mg</th>\n",
       "      <th>Rg</th>\n",
       "      <th>molar_frac</th>\n",
       "      <th>mass_frac</th>\n",
       "    </tr>\n",
       "  </thead>\n",
       "  <tbody>\n",
       "    <tr>\n",
       "      <th>0</th>\n",
       "      <td>O2</td>\n",
       "      <td>&lt;pyturb.gas_models.perfect_ideal_gas.PerfectId...</td>\n",
       "      <td>1.924286</td>\n",
       "      <td>31.99880</td>\n",
       "      <td>0.500000</td>\n",
       "      <td>259.836701</td>\n",
       "      <td>0.940735</td>\n",
       "      <td>0.500001</td>\n",
       "    </tr>\n",
       "    <tr>\n",
       "      <th>1</th>\n",
       "      <td>H2</td>\n",
       "      <td>&lt;pyturb.gas_models.perfect_ideal_gas.PerfectId...</td>\n",
       "      <td>0.121227</td>\n",
       "      <td>2.01588</td>\n",
       "      <td>0.499999</td>\n",
       "      <td>4124.482915</td>\n",
       "      <td>0.059265</td>\n",
       "      <td>0.499999</td>\n",
       "    </tr>\n",
       "  </tbody>\n",
       "</table>\n",
       "</div>"
      ],
      "text/plain": [
       "  gas_species                                     gas_properties        Ng  \\\n",
       "0          O2  <pyturb.gas_models.perfect_ideal_gas.PerfectId...  1.924286   \n",
       "1          H2  <pyturb.gas_models.perfect_ideal_gas.PerfectId...  0.121227   \n",
       "\n",
       "         Mg        mg           Rg  molar_frac  mass_frac  \n",
       "0  31.99880  0.500000   259.836701    0.940735   0.500001  \n",
       "1   2.01588  0.499999  4124.482915    0.059265   0.499999  "
      ]
     },
     "execution_count": 4,
     "metadata": {},
     "output_type": "execute_result"
    }
   ],
   "source": [
    "gas_mix3 = GasMixture(gas_model='Perfect')\n",
    "gas_mix3.add_gas('O2', mass=0.5)\n",
    "gas_mix3.add_gas('H2', moles=0.121227)\n",
    "gas_mix3.mixture_gases"
   ]
  },
  {
   "cell_type": "markdown",
   "metadata": {},
   "source": [
    "Note that `gas_mix` and `gas_mix3` are equivalent.\n",
    "\n",
    "---"
   ]
  },
  {
   "cell_type": "markdown",
   "metadata": {},
   "source": [
    "### Perfect Air as a mixture\n",
    "\n",
    "In this example we will create a gas mixture following the air composition (as a perfect mix of oxygen, nitrogen, argon and carbon dioxide) and we will compare it to the 'Air' substance from `PerfectIdelGas`.\n",
    "\n",
    ">Note that **Air** is an available gas at the *Nasa Glenn* coefficients and is therefore available as a `PerfectIdealGas` and as `SemiperfectIdeal`.\n",
    ">Thus there is no need to declare Air as a gas mixture from pyTurb. However, for the sake of clarity, we will compare both mixtures."
   ]
  },
  {
   "cell_type": "markdown",
   "metadata": {},
   "source": [
    "From the `PerfectIdealGas` class:"
   ]
  },
  {
   "cell_type": "code",
   "execution_count": 5,
   "metadata": {},
   "outputs": [],
   "source": [
    "from pyturb.gas_models import PerfectIdealGas\n",
    "\n",
    "air_perfgas = PerfectIdealGas('Air')"
   ]
  },
  {
   "cell_type": "code",
   "execution_count": 6,
   "metadata": {},
   "outputs": [
    {
     "name": "stdout",
     "output_type": "stream",
     "text": [
      "Species: Air\tMg=28.9651784 g/mol\tdeltaHf_ref=-125.53 J/mol\tdeltaHf_0K=8649.26 J/mol\n",
      "-->Chemical formula: {'N': 1.56, 'O': 0.42, 'AR': 0.01, 'C': 0.0}\n",
      "-->Tinterval: [200.0:1000.0] K\n",
      "   Coefficients:  order -2  |  order -1  |  order 0  |  order 1  |  order 2  |  order 3  |  order 4\n",
      "                  1.010e+04   -1.968e+02   5.009e+00  -5.761e-03   1.067e-05  -7.940e-09   2.185e-12\n",
      "\n",
      "-->Tinterval: [1000.0:6000.0] K\n",
      "   Coefficients:  order -2  |  order -1  |  order 0  |  order 1  |  order 2  |  order 3  |  order 4\n",
      "                  2.415e+05   -1.258e+03   5.145e+00  -2.139e-04   7.065e-08  -1.071e-11   6.578e-16\n",
      "\n",
      "\n"
     ]
    }
   ],
   "source": [
    "print(air_perfgas.thermo_prop)"
   ]
  },
  {
   "cell_type": "markdown",
   "metadata": {},
   "source": [
    "And now, applying a mixture of molar quantities (per unit mole):\n",
    "- Diatomic Oxygen: $O_2$ 20.9476\\%\n",
    "- Diatomic nitrogen: $N_2$ 78.0840\\%\n",
    "- Argon: $Ar$ 0.9365\\%\n",
    "- Carbon dioxide: $CO_2$ 0.0319\\%\n",
    "\n",
    "\n"
   ]
  },
  {
   "cell_type": "code",
   "execution_count": 7,
   "metadata": {},
   "outputs": [],
   "source": [
    "pyturb_mix = GasMixture('Perfect')\n",
    "pyturb_mix.add_gas('O2', 0.209476)\n",
    "pyturb_mix.add_gas('N2', 0.78084)\n",
    "pyturb_mix.add_gas('Ar', 0.009365)\n",
    "pyturb_mix.add_gas('CO2', 0.000319)"
   ]
  },
  {
   "cell_type": "markdown",
   "metadata": {},
   "source": [
    "Therefore, the mixture is composed of:"
   ]
  },
  {
   "cell_type": "code",
   "execution_count": 8,
   "metadata": {},
   "outputs": [
    {
     "data": {
      "text/html": [
       "<div>\n",
       "<style scoped>\n",
       "    .dataframe tbody tr th:only-of-type {\n",
       "        vertical-align: middle;\n",
       "    }\n",
       "\n",
       "    .dataframe tbody tr th {\n",
       "        vertical-align: top;\n",
       "    }\n",
       "\n",
       "    .dataframe thead th {\n",
       "        text-align: right;\n",
       "    }\n",
       "</style>\n",
       "<table border=\"1\" class=\"dataframe\">\n",
       "  <thead>\n",
       "    <tr style=\"text-align: right;\">\n",
       "      <th></th>\n",
       "      <th>gas_species</th>\n",
       "      <th>gas_properties</th>\n",
       "      <th>Ng</th>\n",
       "      <th>Mg</th>\n",
       "      <th>mg</th>\n",
       "      <th>Rg</th>\n",
       "      <th>molar_frac</th>\n",
       "      <th>mass_frac</th>\n",
       "    </tr>\n",
       "  </thead>\n",
       "  <tbody>\n",
       "    <tr>\n",
       "      <th>0</th>\n",
       "      <td>O2</td>\n",
       "      <td>&lt;pyturb.gas_models.perfect_ideal_gas.PerfectId...</td>\n",
       "      <td>0.209476</td>\n",
       "      <td>31.99880</td>\n",
       "      <td>0.054430</td>\n",
       "      <td>259.836701</td>\n",
       "      <td>0.209476</td>\n",
       "      <td>0.188864</td>\n",
       "    </tr>\n",
       "    <tr>\n",
       "      <th>1</th>\n",
       "      <td>N2</td>\n",
       "      <td>&lt;pyturb.gas_models.perfect_ideal_gas.PerfectId...</td>\n",
       "      <td>0.780840</td>\n",
       "      <td>28.01348</td>\n",
       "      <td>0.231755</td>\n",
       "      <td>296.802204</td>\n",
       "      <td>0.780840</td>\n",
       "      <td>0.804163</td>\n",
       "    </tr>\n",
       "    <tr>\n",
       "      <th>2</th>\n",
       "      <td>Ar</td>\n",
       "      <td>&lt;pyturb.gas_models.perfect_ideal_gas.PerfectId...</td>\n",
       "      <td>0.009365</td>\n",
       "      <td>39.94800</td>\n",
       "      <td>0.001949</td>\n",
       "      <td>208.132137</td>\n",
       "      <td>0.009365</td>\n",
       "      <td>0.006763</td>\n",
       "    </tr>\n",
       "    <tr>\n",
       "      <th>3</th>\n",
       "      <td>CO2</td>\n",
       "      <td>&lt;pyturb.gas_models.perfect_ideal_gas.PerfectId...</td>\n",
       "      <td>0.000319</td>\n",
       "      <td>44.00950</td>\n",
       "      <td>0.000060</td>\n",
       "      <td>188.924269</td>\n",
       "      <td>0.000319</td>\n",
       "      <td>0.000209</td>\n",
       "    </tr>\n",
       "  </tbody>\n",
       "</table>\n",
       "</div>"
      ],
      "text/plain": [
       "  gas_species                                     gas_properties        Ng  \\\n",
       "0          O2  <pyturb.gas_models.perfect_ideal_gas.PerfectId...  0.209476   \n",
       "1          N2  <pyturb.gas_models.perfect_ideal_gas.PerfectId...  0.780840   \n",
       "2          Ar  <pyturb.gas_models.perfect_ideal_gas.PerfectId...  0.009365   \n",
       "3         CO2  <pyturb.gas_models.perfect_ideal_gas.PerfectId...  0.000319   \n",
       "\n",
       "         Mg        mg          Rg  molar_frac  mass_frac  \n",
       "0  31.99880  0.054430  259.836701    0.209476   0.188864  \n",
       "1  28.01348  0.231755  296.802204    0.780840   0.804163  \n",
       "2  39.94800  0.001949  208.132137    0.009365   0.006763  \n",
       "3  44.00950  0.000060  188.924269    0.000319   0.000209  "
      ]
     },
     "execution_count": 8,
     "metadata": {},
     "output_type": "execute_result"
    }
   ],
   "source": [
    "pyturb_mix.mixture_gases"
   ]
  },
  {
   "cell_type": "markdown",
   "metadata": {},
   "source": [
    "Where the gas constant, heat capacity at constant pressure, heat capacity at constant volume and the heat capacity ratio are:"
   ]
  },
  {
   "cell_type": "code",
   "execution_count": 9,
   "metadata": {},
   "outputs": [
    {
     "name": "stdout",
     "output_type": "stream",
     "text": [
      "pyTurb air mixture: Rair= 287.1J/kg/K;  cp=1004.7 J/kg/K;  cv= 717.7 J/kg/K;  gamma= 1.4\n",
      "Perfect air:        Rair= 287.1J/kg/K;  cp=1004.7 J/kg/K;  cv= 717.7 J/kg/K;  gamma= 1.4\n"
     ]
    }
   ],
   "source": [
    "print('pyTurb air mixture: Rair={0:6.1f}J/kg/K;  cp={1:6.1f} J/kg/K;  cv={2:6.1f} J/kg/K;  gamma={3:4.1f}'.format(pyturb_mix.Rg, pyturb_mix.cp(), pyturb_mix.cv(), pyturb_mix.gamma()))\n",
    "print('Perfect air:        Rair={0:6.1f}J/kg/K;  cp={1:6.1f} J/kg/K;  cv={2:6.1f} J/kg/K;  gamma={3:4.1f}'.format(air_perfgas.Rg, air_perfgas.cp(), air_perfgas.cv(), air_perfgas.gamma()))"
   ]
  },
  {
   "cell_type": "markdown",
   "metadata": {},
   "source": [
    "---\n",
    "### Semiperfect Gas Mixture\n",
    "\n",
    "Following the last example, a Semi Perfect model can be used by just changing the `gas_model` option:"
   ]
  },
  {
   "cell_type": "code",
   "execution_count": 10,
   "metadata": {},
   "outputs": [],
   "source": [
    "# Objective temperature:\n",
    "T = 1500 #K\n",
    "\n",
    "# Gas mixture:\n",
    "pyturb_mix_sp = GasMixture('Semiperfect')\n",
    "pyturb_mix_sp.add_gas('O2', 0.209476)\n",
    "pyturb_mix_sp.add_gas('N2', 0.78084)\n",
    "pyturb_mix_sp.add_gas('Ar', 0.009365)\n",
    "pyturb_mix_sp.add_gas('CO2', 0.000319)"
   ]
  },
  {
   "cell_type": "code",
   "execution_count": 11,
   "metadata": {},
   "outputs": [
    {
     "name": "stdout",
     "output_type": "stream",
     "text": [
      "pyTurb air mixture: Rair= 287.1J/kg/K;  cp=1211.0 J/kg/K;  cv= 923.9 J/kg/K;  gamma= 1.3\n"
     ]
    }
   ],
   "source": [
    "print('pyTurb air mixture: Rair={0:6.1f}J/kg/K;  cp={1:6.1f} J/kg/K;  cv={2:6.1f} J/kg/K;  gamma={3:4.1f}'.format(pyturb_mix_sp.Rg, pyturb_mix_sp.cp(T), pyturb_mix_sp.cv(T), pyturb_mix_sp.gamma(T)))"
   ]
  }
 ],
 "metadata": {
  "kernelspec": {
   "display_name": "Python 3",
   "language": "python",
   "name": "python3"
  },
  "language_info": {
   "codemirror_mode": {
    "name": "ipython",
    "version": 3
   },
   "file_extension": ".py",
   "mimetype": "text/x-python",
   "name": "python",
   "nbconvert_exporter": "python",
   "pygments_lexer": "ipython3",
   "version": "3.7.11"
  }
 },
 "nbformat": 4,
 "nbformat_minor": 4
}
