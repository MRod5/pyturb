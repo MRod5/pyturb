{
 "cells": [
  {
   "cell_type": "markdown",
   "metadata": {},
   "source": [
    "# Gases: Perfect and Semiperfect Models\n",
    "\n",
    "In this Notebook we will use `PerfectIdealGas` and `SemiperfectIdealGas` classes from **pyTurb**, to access the thermodynamic properties with a Perfect Ideal Gas or a Semiperfect Ideal Gas approach. Both classes acquire the thermodynamic properties of different species from the *NASA Glenn coefficients* in `thermo_properties.py`.\n",
    "\n",
    "Note that `PerfectIdealGas` and `SemiperfectIdealGas` classes are two different approaches for an *Ideal Gas*. \n",
    "\n",
    "The `gas_models` functions and classes can be found in the following folders:\n",
    "\n",
    "- pyturb\n",
    "    - gas_models\n",
    "        - thermo_prop\n",
    "        - PerfectIdealGas\n",
    "        - SemiperfectIdealGas\n",
    "        - GasMixture\n",
    "        \n",
    "```python\n",
    "    from pyturb.gas_models import ThermoProperties\n",
    "    from pyturb.gas_models import PerfectIdealGas\n",
    "    from pyturb.gas_models import SemiperfectIdealGas\n",
    "    from pyturb.gas_models import GasMixture\n",
    "```\n",
    "\n",
    "For an example about how to declae and use a Gas Mixture in **pyTurb**, go the \"Gas Mixtures.ipynb\" Notebook.\n",
    "\n",
    "### Ideal Gas\n",
    "\n",
    "While an Ideal Gas is characterized by a compressibility factor of 1:\n",
    "\n",
    "$$Z=1=\\frac{pv}{R_gT}$$\n",
    "\n",
    "Which means that the *Ideal Gas Equation of State* is available: ($pv=R_gT$). It also means that the Mayer Equation is applicable: $R_g=c_p-c_v$.\n",
    "\n",
    "\n",
    "### Perfect and Semiperfect approaches\n",
    "\n",
    "A Perfect Gas or a Semiperfect Ideal Gas approach means:\n",
    "- If the gas is perfect: $c_v, c_p, \\gamma_g \\equiv constant$\n",
    "- If the gas is Semiperfect: $c_v(T), c_p(T), \\gamma_g(T) \\equiv f(T)$\n",
    "\n",
    "By definition, the model used in `ThermoProperties` provide a 7 coefficients polynomial for the heat capacity at constant pressure ($c_p$):\n",
    "\n",
    "$$ \\frac{c_p}{R_g} = a_1T^{-2}+a_2T^{-1} + a_3 + a_4T + a_5T^2 a_6T^3 + a_7T^4$$\n",
    "\n",
    "With the $c_p$, the Mayer Equation (valid for $Z=1$) and the heat capacity ratio we can obtain $c_v \\left(T\\right)$ and $\\gamma \\left(T\\right)$:\n",
    "\n",
    "$$ R_g =c_p\\left(T\\right)-c_v \\left(T\\right) $$\n",
    "\n",
    "$$\\gamma_g\\left(T\\right) = \\frac{c_p\\left(T\\right)}{c_v\\left(T\\right)}$$\n",
    "\n",
    "\n",
    "> In practice, the `PerfectIdealGas` object is a `SemiperfectIdealGas` where the temperature is set to $25ºC$.\n",
    "\n",
    "\n",
    "\n",
    "### Perfect and Semiperfect content\n",
    "\n",
    "Both `PerfectIdealGas` and `SemiPerfectIdealGas` classes have the following content:\n",
    "\n",
    "- **Gas properties:** Ru, Rg, Mg, cp, cp_molar, cv, cv_molar, gamma\n",
    "- **Gas enthalpies, moles and mass:** h0, h0_molar, mg, Ng\n",
    "- **Chemical properties:** gas_species, thermo_prop\n",
    "\n",
    "### Other dependencies:\n",
    "We will import `numpy` and `pyplot` as well, to make some graphical examples. \n",
    "\n",
    "---"
   ]
  },
  {
   "cell_type": "markdown",
   "metadata": {},
   "source": [
    "### Check Gas Species availability:"
   ]
  },
  {
   "cell_type": "code",
   "execution_count": 1,
   "metadata": {},
   "outputs": [],
   "source": [
    "from pyturb.gas_models import ThermoProperties"
   ]
  },
  {
   "cell_type": "code",
   "execution_count": 2,
   "metadata": {},
   "outputs": [
    {
     "name": "stdout",
     "output_type": "stream",
     "text": [
      "['Ni-', 'NiCL', 'NiCL2', 'NiO', 'NiS', 'O', 'O+', 'O-', 'OD', 'OD-', 'OH', 'OH+', 'OH-', 'O2', 'O2+', 'O2-', 'O3', 'P', 'P+', 'P-', 'PCL', 'PCL2', 'PCL2-', 'PCL3', 'PCL5']\n"
     ]
    }
   ],
   "source": [
    "tp = ThermoProperties()\n",
    "print(tp.species_list[850:875])"
   ]
  },
  {
   "cell_type": "code",
   "execution_count": 3,
   "metadata": {},
   "outputs": [
    {
     "data": {
      "text/plain": [
       "True"
      ]
     },
     "execution_count": 3,
     "metadata": {},
     "output_type": "execute_result"
    }
   ],
   "source": [
    "tp.is_available('Air')"
   ]
  },
  {
   "cell_type": "markdown",
   "metadata": {},
   "source": [
    "---\n",
    "\n",
    "### Import Perfect and Semiperfect Ideal Gas classes:\n",
    "\n",
    "Examples with Air:"
   ]
  },
  {
   "cell_type": "code",
   "execution_count": 4,
   "metadata": {},
   "outputs": [],
   "source": [
    "from pyturb.gas_models import PerfectIdealGas\n",
    "from pyturb.gas_models import SemiperfectIdealGas"
   ]
  },
  {
   "cell_type": "code",
   "execution_count": 5,
   "metadata": {},
   "outputs": [],
   "source": [
    "# Air as perfect gas:\n",
    "perfect_air = PerfectIdealGas('Air')\n",
    "\n",
    "# Air as semiperfect gas:\n",
    "semiperfect_air = SemiperfectIdealGas('Air')"
   ]
  },
  {
   "cell_type": "markdown",
   "metadata": {},
   "source": [
    "---\n",
    "##### To retrieve the thermodynamic properties you can `print` the `thermo_prop` from the gas:\n",
    "\n",
    "Including:\n",
    "- Chemical formula\n",
    "- Heat of formation\n",
    "- Molecular mass\n",
    "- cp coefficients"
   ]
  },
  {
   "cell_type": "code",
   "execution_count": 6,
   "metadata": {},
   "outputs": [
    {
     "name": "stdout",
     "output_type": "stream",
     "text": [
      "Species: Air\tMg=28.9651784 g/mol\tdeltaHf_ref=-125.53 J/mol\tdeltaHf_0K=8649.26 J/mol\n",
      "-->Chemical formula: {'N': 1.56, 'O': 0.42, 'AR': 0.01, 'C': 0.0}\n",
      "-->Tinterval: [200.0:1000.0] K\n",
      "   Coefficients:  order -2  |  order -1  |  order 0  |  order 1  |  order 2  |  order 3  |  order 4\n",
      "                  1.010e+04   -1.968e+02   5.009e+00  -5.761e-03   1.067e-05  -7.940e-09   2.185e-12\n",
      "\n",
      "-->Tinterval: [1000.0:6000.0] K\n",
      "   Coefficients:  order -2  |  order -1  |  order 0  |  order 1  |  order 2  |  order 3  |  order 4\n",
      "                  2.415e+05   -1.258e+03   5.145e+00  -2.139e-04   7.065e-08  -1.071e-11   6.578e-16\n",
      "\n",
      "\n"
     ]
    }
   ],
   "source": [
    "print(perfect_air.thermo_prop)"
   ]
  },
  {
   "cell_type": "markdown",
   "metadata": {},
   "source": [
    "---\n",
    "You can get the thermodynamic properties directly from the gas object. Note that all units are International System of Units (SI):"
   ]
  },
  {
   "cell_type": "code",
   "execution_count": 7,
   "metadata": {},
   "outputs": [
    {
     "name": "stdout",
     "output_type": "stream",
     "text": [
      "287.0502816634901\n",
      "28.9651784\n",
      "1004.7188747023865\n",
      "29.10186144760187\n",
      "717.6685930388965\n",
      "20.78739882944863\n",
      "1.3999760954398244\n"
     ]
    }
   ],
   "source": [
    "print(perfect_air.Rg)\n",
    "print(perfect_air.Mg)\n",
    "print(perfect_air.cp())\n",
    "print(perfect_air.cp_molar())\n",
    "print(perfect_air.cv())\n",
    "print(perfect_air.cv_molar())\n",
    "print(perfect_air.gamma())"
   ]
  },
  {
   "cell_type": "markdown",
   "metadata": {},
   "source": [
    "---\n",
    "##### Use the docstrings for more info about the content of a PerfectIdealGas or a SemiperfectIdealGas:\n",
    "\n"
   ]
  },
  {
   "cell_type": "code",
   "execution_count": 8,
   "metadata": {},
   "outputs": [
    {
     "data": {
      "text/plain": [
       "\u001b[1;31mType:\u001b[0m           PerfectIdealGas\n",
       "\u001b[1;31mString form:\u001b[0m    <pyturb.gas_models.perfect_ideal_gas.PerfectIdealGas object at 0x0000021EDED51160>\n",
       "\u001b[1;31mFile:\u001b[0m           c:\\users\\c84184\\phd\\pyturb-example_notebooks\\src\\pyturb\\gas_models\\perfect_ideal_gas.py\n",
       "\u001b[1;31mDocstring:\u001b[0m     \n",
       "PerfectIdealGas class:\n",
       "----------------------\n",
       "\n",
       "Implements a Gas object:\n",
       "    +gas_species: Species selected. May be a pure substance or any of the molecules and mixes\n",
       "                  considered in \"NASA Glenn Coefficients for Calculating Thermodynamic\n",
       "                  Properties of Individual Species\".\n",
       "    + Ru: Ideal gas law universal constant  [J/mol/K]\n",
       "    + Rg: Individual gas constant [J/kg/K]\n",
       "    + cp: Constant heat capacity at constant pressure [J/kg/K]\n",
       "    + cv: Constant heat capacity at constant volume [J/kg/K]\n",
       "    + gamma: Heat capacity ratio [-]\n",
       "    + cp_molar: Constant molar heat capacity at constant pressure [J/kg/K]\n",
       "    + cv_molar: Constant molar heat capacity at constant volume [J/kg/K]\n",
       "    + h0_molar: Assigned molar enthalpy [J/mol] as h0(T) = deltaHf(T_ref) + (H0(T) - h0(T_ref))\n",
       "    + h0: Assigned enthalpy [J/kg] as h0(T) = deltaHf(T_ref) + (H0(T) - h0(T_ref))\n",
       "\n",
       "When initialized, SemiperfectIdealGas class is called to retrieve the gas species.\n",
       "The heat capacity at constant pressure is calculated as SemiperfectIdealGas.cp(T_ref)\n",
       "where T_ref is the reference temperatue for chemical processes.\n",
       "\n",
       "Heat capacity at constant volume and heat capacity ratio are obtained as an Ideal Gas:\n",
       "cv = cp - Rg, gamma=cp/cv.\n",
       "\u001b[1;31mInit docstring:\u001b[0m\n",
       "Initializes a SemiperfectIdealGas object with the gas species selected and stores the\n",
       "gas species and the reference temperature.\n"
      ]
     },
     "metadata": {},
     "output_type": "display_data"
    }
   ],
   "source": [
    "perfect_air?"
   ]
  },
  {
   "cell_type": "markdown",
   "metadata": {},
   "source": [
    "---\n",
    "##### Compare both models:\n",
    "\n",
    "Note that *Perfect Ideal Air*, with constant $c_p$, $c_v$ and $\\gamma$, yields the same properties than a semiperfect gas model at 25ºC (reference temperature):"
   ]
  },
  {
   "cell_type": "code",
   "execution_count": 9,
   "metadata": {},
   "outputs": [
    {
     "name": "stdout",
     "output_type": "stream",
     "text": [
      "At T=  288.15K, cp_perfect= 1004.72J/kg/K\n",
      "At T=  288.15K, cp_semipft= 1004.27J/kg/K\n",
      "At T= 1500.00K, cp_perfect= 1004.72J/kg/K\n",
      "At T= 1500.00K, cp_semipft= 1210.97J/kg/K\n"
     ]
    }
   ],
   "source": [
    "T = 288.15 #K\n",
    "cp_perf = perfect_air.cp()\n",
    "cp_sp = semiperfect_air.cp(T)\n",
    "\n",
    "print('At T={0:8.2f}K, cp_perfect={1:8.2f}J/kg/K'.format(T, cp_perf))\n",
    "print('At T={0:8.2f}K, cp_semipft={1:8.2f}J/kg/K'.format(T, cp_sp))\n",
    "\n",
    "T = 1500 #K\n",
    "cp_perf = perfect_air.cp()\n",
    "cp_sp = semiperfect_air.cp(T)\n",
    "\n",
    "print('At T={0:8.2f}K, cp_perfect={1:8.2f}J/kg/K'.format(T, cp_perf))\n",
    "print('At T={0:8.2f}K, cp_semipft={1:8.2f}J/kg/K'.format(T, cp_sp))"
   ]
  },
  {
   "cell_type": "markdown",
   "metadata": {},
   "source": [
    "---\n",
    "##### $c_p$, $c_v$ and $\\gamma$ versus temperature:"
   ]
  },
  {
   "cell_type": "code",
   "execution_count": 10,
   "metadata": {},
   "outputs": [],
   "source": [
    "import numpy as np\n",
    "from matplotlib import pyplot as plt"
   ]
  },
  {
   "cell_type": "code",
   "execution_count": 11,
   "metadata": {},
   "outputs": [
    {
     "data": {
      "image/png": "[encoded data removed]",
      "text/plain": [
       "<Figure size 432x288 with 2 Axes>"
      ]
     },
     "metadata": {
      "needs_background": "light"
     },
     "output_type": "display_data"
    }
   ],
   "source": [
    "T = np.linspace(200, 2000, 50)\n",
    "cp = np.zeros_like(T)\n",
    "cv = np.zeros_like(T)\n",
    "gamma = np.zeros_like(T)\n",
    "\n",
    "for ii, temperature in enumerate(T):\n",
    "    cp[ii] = semiperfect_air.cp(temperature)\n",
    "    cv[ii] = semiperfect_air.cv(temperature)\n",
    "    gamma[ii] = semiperfect_air.gamma(temperature)\n",
    "    \n",
    "fig, (ax1, ax2) = plt.subplots(2)\n",
    "fig.suptitle('Air properties')\n",
    "ax1.plot(T, cp)\n",
    "ax1.plot(T, cv)\n",
    "ax2.plot(T, gamma)\n",
    "\n",
    "ax1.set(xlabel=\"Temperature [K]\", ylabel=\"cp, cv [J/kg/K]\")\n",
    "ax2.set(xlabel=\"Temperature [K]\", ylabel=\"gamma [-]\")\n",
    "ax1.grid()\n",
    "ax2.grid()\n",
    "plt.show()\n"
   ]
  },
  {
   "cell_type": "code",
   "execution_count": null,
   "metadata": {},
   "outputs": [],
   "source": []
  }
 ],
 "metadata": {
  "kernelspec": {
   "display_name": "Python 3",
   "language": "python",
   "name": "python3"
  },
  "language_info": {
   "codemirror_mode": {
    "name": "ipython",
    "version": 3
   },
   "file_extension": ".py",
   "mimetype": "text/x-python",
   "name": "python",
   "nbconvert_exporter": "python",
   "pygments_lexer": "ipython3",
   "version": "3.7.1"
  }
 },
 "nbformat": 4,
 "nbformat_minor": 4
}
